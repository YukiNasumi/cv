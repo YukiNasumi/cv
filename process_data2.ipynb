{
 "cells": [
  {
   "cell_type": "code",
   "execution_count": 1,
   "metadata": {},
   "outputs": [],
   "source": [
    "import tools\n",
    "import os\n",
    "concert_video_path = 'D:\\\\Tencent_files\\\\concert'\n",
    "non_concert_video_path = 'D:\\\\Tencent_files\\\\non-concert'\n",
    "c = os.listdir(concert_video_path)\n",
    "n_c = os.listdir(non_concert_video_path)"
   ]
  },
  {
   "cell_type": "code",
   "execution_count": 2,
   "metadata": {},
   "outputs": [
    {
     "data": {
      "text/plain": [
       "5"
      ]
     },
     "execution_count": 2,
     "metadata": {},
     "output_type": "execute_result"
    }
   ],
   "source": [
    "\n",
    "len(c)"
   ]
  },
  {
   "cell_type": "code",
   "execution_count": 3,
   "metadata": {},
   "outputs": [
    {
     "data": {
      "text/plain": [
       "9"
      ]
     },
     "execution_count": 3,
     "metadata": {},
     "output_type": "execute_result"
    }
   ],
   "source": [
    "len(n_c)"
   ]
  },
  {
   "cell_type": "code",
   "execution_count": 4,
   "metadata": {},
   "outputs": [
    {
     "data": {
      "text/plain": [
       "3953"
      ]
     },
     "execution_count": 4,
     "metadata": {},
     "output_type": "execute_result"
    }
   ],
   "source": [
    "datapro = tools.data_pro(last_idx=3953)\n",
    "datapro.last_idx"
   ]
  },
  {
   "cell_type": "code",
   "execution_count": 5,
   "metadata": {},
   "outputs": [
    {
     "data": {
      "text/plain": [
       "['1EB0015866F114BB1DED50BF47167CBC.mp4',\n",
       " '3DABE3759ECFC2EABA89254606525B76.mp4',\n",
       " '3EEE155849217C115EC8CB13150AD654.mp4',\n",
       " '91682E168753EE1705E593A67F04B591.mp4',\n",
       " '9215241F527D145A2E5D123C677B0C5A.mp4',\n",
       " 'A94E4FE3BE1BE509B5F7B5561E7CA5C7.mp4',\n",
       " 'C6EF0BAAFE29E602E6A4583571ACAC15.mp4',\n",
       " 'CC3A181B1B3464252E2930937199E5EC.mp4',\n",
       " 'F3EE69903CB383800C74D784D54ED3B3.mp4']"
      ]
     },
     "execution_count": 5,
     "metadata": {},
     "output_type": "execute_result"
    }
   ],
   "source": [
    "#加入新文件进入non-concert\n",
    "new_n_c = [name for name in os.listdir(non_concert_video_path) if not name in n_c]\n",
    "new_n_c"
   ]
  },
  {
   "cell_type": "code",
   "execution_count": 6,
   "metadata": {},
   "outputs": [
    {
     "name": "stdout",
     "output_type": "stream",
     "text": [
      "img4000 processing\n",
      "img4100 processing\n",
      "img4200 processing\n",
      "img4300 processing\n",
      "img4400 processing\n",
      "video is over,the last index is 4410\n",
      "img4500 processing\n",
      "img4600 processing\n",
      "img4700 processing\n",
      "img4800 processing\n",
      "img4900 processing\n",
      "img5000 processing\n",
      "img5100 processing\n",
      "img5200 processing\n",
      "video is over,the last index is 5280\n",
      "img5300 processing\n",
      "img5400 processing\n",
      "img5500 processing\n",
      "video is over,the last index is 5581\n",
      "img5600 processing\n",
      "img5700 processing\n",
      "img5800 processing\n",
      "img5900 processing\n",
      "video is over,the last index is 5992\n",
      "img6000 processing\n",
      "img6100 processing\n",
      "img6200 processing\n",
      "img6300 processing\n",
      "img6400 processing\n",
      "video is over,the last index is 6462\n",
      "img6500 processing\n",
      "img6600 processing\n",
      "img6700 processing\n",
      "img6800 processing\n",
      "img6900 processing\n",
      "img7000 processing\n",
      "video is over,the last index is 6999\n",
      "img7100 processing\n",
      "img7200 processing\n",
      "img7300 processing\n",
      "img7400 processing\n",
      "video is over,the last index is 7442\n",
      "img7500 processing\n",
      "img7600 processing\n",
      "video is over,the last index is 7633\n",
      "img7700 processing\n",
      "img7800 processing\n",
      "img7900 processing\n",
      "img8000 processing\n",
      "video is over,the last index is 8020\n"
     ]
    }
   ],
   "source": [
    "for v in new_n_c:#计算得30张每秒\n",
    "    v_path = os.path.join(non_concert_video_path,v)\n",
    "    datapro.video_process(v_path,'./data/non-concert',label=0)"
   ]
  },
  {
   "cell_type": "code",
   "execution_count": 7,
   "metadata": {},
   "outputs": [
    {
     "name": "stdout",
     "output_type": "stream",
     "text": [
      "img8100 processing\n",
      "img8200 processing\n",
      "img8300 processing\n",
      "img8400 processing\n",
      "img8500 processing\n",
      "video is over,the last index is 8514\n"
     ]
    }
   ],
   "source": [
    "datapro.video_process(r\"E:\\my_Files\\Tencent Files\\2510138701\\Video\\D582E0EF51CFC23B2D71A02B268C7EBA.mp4\",'./data/non-concert',label=0)"
   ]
  },
  {
   "cell_type": "code",
   "execution_count": 1,
   "metadata": {},
   "outputs": [],
   "source": [
    "\n",
    "import tools\n",
    "datapro = tools.data_pro()\n",
    "datapro.last_idx = 8514"
   ]
  },
  {
   "cell_type": "code",
   "execution_count": 2,
   "metadata": {},
   "outputs": [
    {
     "name": "stdout",
     "output_type": "stream",
     "text": [
      "img8600 processing\n",
      "img8700 processing\n",
      "img8800 processing\n",
      "img8900 processing\n",
      "img9000 processing\n",
      "img9100 processing\n",
      "img9200 processing\n",
      "img9300 processing\n",
      "video is over,the last index is 9304\n"
     ]
    }
   ],
   "source": [
    "datapro.video_process(r\"D:\\Tencent_files\\MobileFile\\QQ空间视频_202308151358201692079100734.mp4\",'./data/non-concert',label=0)"
   ]
  },
  {
   "cell_type": "code",
   "execution_count": 3,
   "metadata": {},
   "outputs": [
    {
     "name": "stdout",
     "output_type": "stream",
     "text": [
      "img9400 processing\n",
      "img9500 processing\n",
      "img9600 processing\n",
      "img9700 processing\n",
      "img9800 processing\n",
      "video is over,the last index is 9804\n"
     ]
    }
   ],
   "source": [
    "datapro.video_process(r\"D:\\Tencent_files\\MobileFile\\video_20230719_140455.mp4\",'./data/non-concert',label=0)"
   ]
  },
  {
   "cell_type": "code",
   "execution_count": 4,
   "metadata": {},
   "outputs": [
    {
     "data": {
      "text/plain": [
       "20929"
      ]
     },
     "execution_count": 4,
     "metadata": {},
     "output_type": "execute_result"
    }
   ],
   "source": [
    "len(tools.os.listdir('data/concert/image'))"
   ]
  },
  {
   "cell_type": "code",
   "execution_count": 5,
   "metadata": {},
   "outputs": [
    {
     "data": {
      "text/plain": [
       "20924"
      ]
     },
     "execution_count": 5,
     "metadata": {},
     "output_type": "execute_result"
    }
   ],
   "source": [
    "len(tools.os.listdir('data/concert/optical_flow'))"
   ]
  },
  {
   "cell_type": "code",
   "execution_count": null,
   "metadata": {},
   "outputs": [],
   "source": []
  }
 ],
 "metadata": {
  "kernelspec": {
   "display_name": "torch",
   "language": "python",
   "name": "python3"
  },
  "language_info": {
   "codemirror_mode": {
    "name": "ipython",
    "version": 3
   },
   "file_extension": ".py",
   "mimetype": "text/x-python",
   "name": "python",
   "nbconvert_exporter": "python",
   "pygments_lexer": "ipython3",
   "version": "3.8.13"
  }
 },
 "nbformat": 4,
 "nbformat_minor": 2
}
