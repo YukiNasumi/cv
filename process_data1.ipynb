{
 "cells": [
  {
   "cell_type": "code",
   "execution_count": 1,
   "metadata": {},
   "outputs": [],
   "source": [
    "import tools"
   ]
  },
  {
   "cell_type": "code",
   "execution_count": 2,
   "metadata": {},
   "outputs": [],
   "source": [
    "concert_video_path = 'D:\\\\Tencent_files\\\\concert'\n",
    "non_concert_video_path = 'D:\\\\Tencent_files\\\\non-concert'"
   ]
  },
  {
   "cell_type": "code",
   "execution_count": 3,
   "metadata": {},
   "outputs": [],
   "source": [
    "import os"
   ]
  },
  {
   "cell_type": "code",
   "execution_count": 4,
   "metadata": {},
   "outputs": [],
   "source": [
    "c = os.listdir(concert_video_path)"
   ]
  },
  {
   "cell_type": "code",
   "execution_count": 5,
   "metadata": {},
   "outputs": [],
   "source": [
    "n_c = os.listdir(non_concert_video_path)"
   ]
  },
  {
   "cell_type": "code",
   "execution_count": 6,
   "metadata": {},
   "outputs": [
    {
     "name": "stdout",
     "output_type": "stream",
     "text": [
      "img100 processing\n",
      "img200 processing\n",
      "img300 processing\n",
      "img400 processing\n",
      "img500 processing\n",
      "img600 processing\n",
      "img700 processing\n",
      "img800 processing\n",
      "video is over,the last index is 808\n",
      "img900 processing\n",
      "img1000 processing\n",
      "img1100 processing\n",
      "img1200 processing\n",
      "video is over,the last index is 1216\n",
      "img1300 processing\n",
      "img1400 processing\n",
      "img1500 processing\n",
      "video is over,the last index is 1549\n",
      "img1600 processing\n",
      "img1700 processing\n",
      "img1800 processing\n",
      "img1900 processing\n",
      "img2000 processing\n",
      "video is over,the last index is 2046\n",
      "img2100 processing\n",
      "img2200 processing\n",
      "img2300 processing\n",
      "video is over,the last index is 2347\n",
      "img2400 processing\n",
      "img2500 processing\n",
      "img2600 processing\n",
      "img2700 processing\n",
      "img2800 processing\n",
      "video is over,the last index is 2867\n"
     ]
    }
   ],
   "source": [
    "datapro = tools.data_pro()\n",
    "#先处理非演唱会\n",
    "for v in n_c:\n",
    "    v_path = os.path.join(non_concert_video_path,v)\n",
    "    datapro.video_process(v_path,'./data/non-concert',0)"
   ]
  },
  {
   "cell_type": "code",
   "execution_count": 8,
   "metadata": {},
   "outputs": [
    {
     "name": "stdout",
     "output_type": "stream",
     "text": [
      "2867\n"
     ]
    }
   ],
   "source": [
    "print(datapro.last_idx)\n",
    "datapro.last_idx=0"
   ]
  },
  {
   "cell_type": "code",
   "execution_count": 9,
   "metadata": {},
   "outputs": [
    {
     "name": "stdout",
     "output_type": "stream",
     "text": [
      "img100 processing\n",
      "img200 processing\n",
      "img300 processing\n",
      "img400 processing\n",
      "img500 processing\n",
      "img600 processing\n",
      "img700 processing\n",
      "img800 processing\n",
      "img900 processing\n",
      "img1000 processing\n",
      "img1100 processing\n",
      "img1200 processing\n",
      "img1300 processing\n",
      "img1400 processing\n",
      "img1500 processing\n",
      "img1600 processing\n",
      "img1700 processing\n",
      "img1800 processing\n",
      "img1900 processing\n",
      "img2000 processing\n",
      "img2100 processing\n",
      "img2200 processing\n",
      "img2300 processing\n",
      "img2400 processing\n",
      "video is over,the last index is 2423\n",
      "img2500 processing\n",
      "img2600 processing\n",
      "img2700 processing\n",
      "img2800 processing\n",
      "img2900 processing\n",
      "img3000 processing\n",
      "img3100 processing\n",
      "img3200 processing\n",
      "img3300 processing\n",
      "img3400 processing\n",
      "img3500 processing\n",
      "img3600 processing\n",
      "img3700 processing\n",
      "img3800 processing\n",
      "img3900 processing\n",
      "img4000 processing\n",
      "img4100 processing\n",
      "img4200 processing\n",
      "img4300 processing\n",
      "img4400 processing\n",
      "img4500 processing\n",
      "img4600 processing\n",
      "img4700 processing\n",
      "img4800 processing\n",
      "img4900 processing\n",
      "img5000 processing\n",
      "img5100 processing\n",
      "img5200 processing\n",
      "img5300 processing\n",
      "img5400 processing\n",
      "img5500 processing\n",
      "img5600 processing\n",
      "img5700 processing\n",
      "img5800 processing\n",
      "img5900 processing\n",
      "img6000 processing\n",
      "img6100 processing\n",
      "img6200 processing\n",
      "img6300 processing\n",
      "img6400 processing\n",
      "img6500 processing\n",
      "img6600 processing\n",
      "img6700 processing\n",
      "img6800 processing\n",
      "img6900 processing\n",
      "img7000 processing\n",
      "img7100 processing\n",
      "img7200 processing\n",
      "img7300 processing\n",
      "img7400 processing\n",
      "img7500 processing\n",
      "img7600 processing\n",
      "img7700 processing\n",
      "img7800 processing\n",
      "img7900 processing\n",
      "img8000 processing\n",
      "img8100 processing\n",
      "img8200 processing\n",
      "img8300 processing\n",
      "img8400 processing\n",
      "img8500 processing\n",
      "img8600 processing\n",
      "img8700 processing\n",
      "img8800 processing\n",
      "img8900 processing\n",
      "img9000 processing\n",
      "img9100 processing\n",
      "img9200 processing\n",
      "img9300 processing\n",
      "img9400 processing\n",
      "img9500 processing\n",
      "img9600 processing\n",
      "img9700 processing\n",
      "img9800 processing\n",
      "img9900 processing\n",
      "img10000 processing\n",
      "img10100 processing\n",
      "img10200 processing\n",
      "video is over,the last index is 10242\n"
     ]
    }
   ],
   "source": [
    "for v in c:\n",
    "    v_path = os.path.join(concert_video_path,v)\n",
    "    datapro.video_process(v_path,'./data/concert',1)"
   ]
  },
  {
   "cell_type": "code",
   "execution_count": 12,
   "metadata": {},
   "outputs": [],
   "source": [
    "new_c = [p for p in os.listdir(concert_video_path) if not p in c]"
   ]
  },
  {
   "cell_type": "code",
   "execution_count": 13,
   "metadata": {},
   "outputs": [
    {
     "data": {
      "text/plain": [
       "['2.mp4', '3.mp4', '9.mp4']"
      ]
     },
     "execution_count": 13,
     "metadata": {},
     "output_type": "execute_result"
    }
   ],
   "source": [
    "new_c"
   ]
  },
  {
   "cell_type": "code",
   "execution_count": 14,
   "metadata": {},
   "outputs": [],
   "source": [
    "new_nc = [p for p in os.listdir(non_concert_video_path) if not p in n_c]"
   ]
  },
  {
   "cell_type": "code",
   "execution_count": 15,
   "metadata": {},
   "outputs": [
    {
     "data": {
      "text/plain": [
       "['VID_20240620_151315.mp4', 'VID_20240620_151330.mp4', 'zjcdn_0012.mp4']"
      ]
     },
     "execution_count": 15,
     "metadata": {},
     "output_type": "execute_result"
    }
   ],
   "source": [
    "new_nc"
   ]
  },
  {
   "cell_type": "code",
   "execution_count": 17,
   "metadata": {},
   "outputs": [
    {
     "data": {
      "text/plain": [
       "10242"
      ]
     },
     "execution_count": 17,
     "metadata": {},
     "output_type": "execute_result"
    }
   ],
   "source": [
    "len(os.listdir('./data/concert/image/'))"
   ]
  },
  {
   "cell_type": "code",
   "execution_count": 18,
   "metadata": {},
   "outputs": [
    {
     "data": {
      "text/plain": [
       "10242"
      ]
     },
     "execution_count": 18,
     "metadata": {},
     "output_type": "execute_result"
    }
   ],
   "source": [
    "datapro.last_idx"
   ]
  },
  {
   "cell_type": "code",
   "execution_count": 19,
   "metadata": {},
   "outputs": [
    {
     "name": "stdout",
     "output_type": "stream",
     "text": [
      "img10300 processing\n",
      "img10400 processing\n",
      "img10500 processing\n",
      "img10600 processing\n",
      "img10700 processing\n",
      "img10800 processing\n",
      "img10900 processing\n",
      "img11000 processing\n",
      "img11100 processing\n",
      "img11200 processing\n",
      "img11300 processing\n",
      "img11400 processing\n",
      "img11500 processing\n",
      "img11600 processing\n",
      "img11700 processing\n",
      "img11800 processing\n",
      "img11900 processing\n",
      "img12000 processing\n",
      "img12100 processing\n",
      "video is over,the last index is 12127\n",
      "img12200 processing\n",
      "img12300 processing\n",
      "img12400 processing\n",
      "img12500 processing\n",
      "img12600 processing\n",
      "img12700 processing\n",
      "img12800 processing\n",
      "img12900 processing\n",
      "img13000 processing\n",
      "img13100 processing\n",
      "img13200 processing\n",
      "img13300 processing\n",
      "img13400 processing\n",
      "img13500 processing\n",
      "img13600 processing\n",
      "img13700 processing\n",
      "img13800 processing\n",
      "img13900 processing\n",
      "img14000 processing\n",
      "img14100 processing\n",
      "img14200 processing\n",
      "img14300 processing\n",
      "img14400 processing\n",
      "img14500 processing\n",
      "img14600 processing\n",
      "img14700 processing\n",
      "img14800 processing\n",
      "img14900 processing\n",
      "img15000 processing\n",
      "img15100 processing\n",
      "img15200 processing\n",
      "img15300 processing\n",
      "img15400 processing\n",
      "img15500 processing\n",
      "img15600 processing\n",
      "img15700 processing\n",
      "img15800 processing\n",
      "img15900 processing\n",
      "img16000 processing\n",
      "img16100 processing\n",
      "img16200 processing\n",
      "img16300 processing\n",
      "img16400 processing\n",
      "img16500 processing\n",
      "img16600 processing\n",
      "img16700 processing\n",
      "img16800 processing\n",
      "img16900 processing\n",
      "img17000 processing\n",
      "img17100 processing\n",
      "img17200 processing\n",
      "img17300 processing\n",
      "img17400 processing\n",
      "img17500 processing\n",
      "img17600 processing\n",
      "img17700 processing\n",
      "img17800 processing\n",
      "img17900 processing\n",
      "img18000 processing\n",
      "img18100 processing\n",
      "img18200 processing\n",
      "img18300 processing\n",
      "img18400 processing\n",
      "img18500 processing\n",
      "img18600 processing\n",
      "img18700 processing\n",
      "img18800 processing\n",
      "video is over,the last index is 18886\n",
      "img18900 processing\n",
      "img19000 processing\n",
      "img19100 processing\n",
      "img19200 processing\n",
      "img19300 processing\n",
      "img19400 processing\n",
      "img19500 processing\n",
      "img19600 processing\n",
      "img19700 processing\n",
      "img19800 processing\n",
      "img19900 processing\n",
      "img20000 processing\n",
      "img20100 processing\n",
      "img20200 processing\n",
      "img20300 processing\n",
      "img20400 processing\n",
      "img20500 processing\n",
      "img20600 processing\n",
      "img20700 processing\n",
      "img20800 processing\n",
      "img20900 processing\n",
      "video is over,the last index is 20929\n"
     ]
    }
   ],
   "source": [
    "for v in new_c:\n",
    "    v_path = os.path.join(concert_video_path,v)\n",
    "    datapro.video_process(v_path,'./data/concert',1)"
   ]
  },
  {
   "cell_type": "code",
   "execution_count": 22,
   "metadata": {},
   "outputs": [
    {
     "data": {
      "text/plain": [
       "2867"
      ]
     },
     "execution_count": 22,
     "metadata": {},
     "output_type": "execute_result"
    }
   ],
   "source": [
    "datapro.last_idx = len(os.listdir('./data/non-concert/image'))\n",
    "datapro.last_idx"
   ]
  },
  {
   "cell_type": "code",
   "execution_count": 23,
   "metadata": {},
   "outputs": [
    {
     "name": "stdout",
     "output_type": "stream",
     "text": [
      "img2900 processing\n",
      "img3000 processing\n",
      "img3100 processing\n",
      "img3200 processing\n",
      "video is over,the last index is 3202\n",
      "img3300 processing\n",
      "img3400 processing\n",
      "img3500 processing\n",
      "video is over,the last index is 3551\n",
      "img3600 processing\n",
      "img3700 processing\n",
      "img3800 processing\n",
      "img3900 processing\n",
      "video is over,the last index is 3953\n"
     ]
    }
   ],
   "source": [
    "for v in new_nc:\n",
    "    v_path = os.path.join(non_concert_video_path,v)\n",
    "    datapro.video_process(v_path,'./data/non-concert',label=0)"
   ]
  },
  {
   "cell_type": "code",
   "execution_count": null,
   "metadata": {},
   "outputs": [],
   "source": []
  }
 ],
 "metadata": {
  "kernelspec": {
   "display_name": "torch",
   "language": "python",
   "name": "python3"
  },
  "language_info": {
   "codemirror_mode": {
    "name": "ipython",
    "version": 3
   },
   "file_extension": ".py",
   "mimetype": "text/x-python",
   "name": "python",
   "nbconvert_exporter": "python",
   "pygments_lexer": "ipython3",
   "version": "3.8.13"
  }
 },
 "nbformat": 4,
 "nbformat_minor": 2
}
